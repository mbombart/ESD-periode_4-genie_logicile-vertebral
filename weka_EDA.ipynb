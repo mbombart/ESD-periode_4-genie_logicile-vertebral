{
 "cells": [
  {
   "cell_type": "code",
   "execution_count": 60,
   "metadata": {},
   "outputs": [],
   "source": [
    "from sklearn.datasets import load_iris\n",
    "from sklearn.model_selection import train_test_split\n",
    "from sklearn.metrics import f1_score,recall_score,accuracy_score,precision_score,confusion_matrix,classification_report\n",
    "#Import Random Forest Model\n",
    "from sklearn.ensemble import RandomForestClassifier\n",
    "from sklearn.neighbors import KNeighborsClassifier\n",
    "#Import scikit-learn metrics module for accuracy calculation\n",
    "from sklearn import metrics\n",
    "%matplotlib inline\n",
    "import matplotlib.pyplot as plt\n",
    "import matplotlib as mpl\n",
    "import numpy as np\n",
    "import seaborn as sns\n",
    "import pandas as pd\n",
    "from urllib.parse import urlparse\n",
    "import mlflow\n",
    "import pandas as pd\n",
    "import plotly.express as px"
   ]
  },
  {
   "cell_type": "code",
   "execution_count": 62,
   "metadata": {},
   "outputs": [],
   "source": [
    "df = pd.read_csv(r'data/column_3C.dat', sep = ' ', header=None)\n",
    "#df.to_csv(r'data/raw/data.csv')"
   ]
  },
  {
   "cell_type": "code",
   "execution_count": 55,
   "metadata": {},
   "outputs": [
    {
     "data": {
      "text/html": [
       "<div>\n",
       "<style scoped>\n",
       "    .dataframe tbody tr th:only-of-type {\n",
       "        vertical-align: middle;\n",
       "    }\n",
       "\n",
       "    .dataframe tbody tr th {\n",
       "        vertical-align: top;\n",
       "    }\n",
       "\n",
       "    .dataframe thead th {\n",
       "        text-align: right;\n",
       "    }\n",
       "</style>\n",
       "<table border=\"1\" class=\"dataframe\">\n",
       "  <thead>\n",
       "    <tr style=\"text-align: right;\">\n",
       "      <th></th>\n",
       "      <th>0</th>\n",
       "      <th>1</th>\n",
       "      <th>2</th>\n",
       "      <th>3</th>\n",
       "      <th>4</th>\n",
       "      <th>5</th>\n",
       "      <th>6</th>\n",
       "    </tr>\n",
       "  </thead>\n",
       "  <tbody>\n",
       "    <tr>\n",
       "      <th>0</th>\n",
       "      <td>63.03</td>\n",
       "      <td>22.55</td>\n",
       "      <td>39.61</td>\n",
       "      <td>40.48</td>\n",
       "      <td>98.67</td>\n",
       "      <td>-0.25</td>\n",
       "      <td>DH</td>\n",
       "    </tr>\n",
       "  </tbody>\n",
       "</table>\n",
       "</div>"
      ],
      "text/plain": [
       "       0      1      2      3      4     5   6\n",
       "0  63.03  22.55  39.61  40.48  98.67 -0.25  DH"
      ]
     },
     "execution_count": 55,
     "metadata": {},
     "output_type": "execute_result"
    }
   ],
   "source": [
    "df.iloc[[0]]"
   ]
  },
  {
   "cell_type": "code",
   "execution_count": 56,
   "metadata": {},
   "outputs": [
    {
     "name": "stdout",
     "output_type": "stream",
     "text": [
      "                0           1           2           3           4           5\n",
      "count  310.000000  310.000000  310.000000  310.000000  310.000000  310.000000\n",
      "mean    60.496484   17.542903   51.930710   42.953871  117.920548   26.296742\n",
      "std     17.236109   10.008140   18.553766   13.422748   13.317629   37.558883\n",
      "min     26.150000   -6.550000   14.000000   13.370000   70.080000  -11.060000\n",
      "25%     46.432500   10.667500   37.000000   33.347500  110.710000    1.600000\n",
      "50%     58.690000   16.360000   49.565000   42.405000  118.265000   11.765000\n",
      "75%     72.880000   22.120000   63.000000   52.692500  125.467500   41.285000\n",
      "max    129.830000   49.430000  125.740000  121.430000  163.070000  418.540000\n"
     ]
    }
   ],
   "source": [
    "print(df.describe())"
   ]
  },
  {
   "cell_type": "code",
   "execution_count": 59,
   "metadata": {},
   "outputs": [
    {
     "name": "stdout",
     "output_type": "stream",
     "text": [
      "0      DH\n",
      "1      DH\n",
      "2      DH\n",
      "3      DH\n",
      "4      DH\n",
      "       ..\n",
      "305    NO\n",
      "306    NO\n",
      "307    NO\n",
      "308    NO\n",
      "309    NO\n",
      "Name: 6, Length: 310, dtype: object\n"
     ]
    }
   ],
   "source": [
    "print(y)"
   ]
  },
  {
   "cell_type": "code",
   "execution_count": 94,
   "metadata": {},
   "outputs": [],
   "source": [
    "import requests, zipfile, io\n",
    "import os \n",
    "#url = 'https://archive.ics.uci.edu/ml/machine-learning-databases/00212/\n",
    "\n",
    "#file_name = 'vertebral_column_data.zip'\n",
    "\n",
    "\n",
    "zip_file_url = url + file_name\n",
    "r = requests.get(zip_file_url)\n",
    "z = zipfile.ZipFile(io.BytesIO(r.content))\n",
    "z = z.extract('column_3C.dat')\n",
    "df = pd.read_csv('column_3C.dat', header= None, sep = ' ')\n",
    "os.remove('column_3C.dat')"
   ]
  },
  {
   "cell_type": "code",
   "execution_count": 95,
   "metadata": {},
   "outputs": [
    {
     "name": "stdout",
     "output_type": "stream",
     "text": [
      "         0      1      2      3       4      5   6\n",
      "0    63.03  22.55  39.61  40.48   98.67  -0.25  DH\n",
      "1    39.06  10.06  25.02  29.00  114.41   4.56  DH\n",
      "2    68.83  22.22  50.09  46.61  105.99  -3.53  DH\n",
      "3    69.30  24.65  44.31  44.64  101.87  11.21  DH\n",
      "4    49.71   9.65  28.32  40.06  108.17   7.92  DH\n",
      "..     ...    ...    ...    ...     ...    ...  ..\n",
      "305  47.90  13.62  36.00  34.29  117.45  -4.25  NO\n",
      "306  53.94  20.72  29.22  33.22  114.37  -0.42  NO\n",
      "307  61.45  22.69  46.17  38.75  125.67  -2.71  NO\n",
      "308  45.25   8.69  41.58  36.56  118.55   0.21  NO\n",
      "309  33.84   5.07  36.64  28.77  123.95  -0.20  NO\n",
      "\n",
      "[310 rows x 7 columns]\n"
     ]
    }
   ],
   "source": [
    "print(df)"
   ]
  },
  {
   "cell_type": "code",
   "execution_count": null,
   "metadata": {},
   "outputs": [
    {
     "name": "stdout",
     "output_type": "stream",
     "text": [
      "(310, 6)\n",
      "(310,)\n",
      "classe : DH, nb exemplaires: 60\n",
      "classe : SL, nb exemplaires: 150\n",
      "classe : NO, nb exemplaires: 100\n"
     ]
    }
   ],
   "source": [
    "# store feature matrix in \"X\"\n",
    "X = df.loc[:,[0,1,2,3,4,5]]\n",
    "\n",
    "# store response vector in \"y\"\n",
    "y = df.loc[:,6]\n",
    "\n",
    "print(X.shape)\n",
    "print(y.shape)\n",
    "\n",
    "for i in [\"DH\",\"SL\",\"NO\"]:\n",
    "    print(\"classe : %s, nb exemplaires: %s\" % (i, len(y[ y == i]) ) )\n",
    "    \n"
   ]
  },
  {
   "cell_type": "code",
   "execution_count": null,
   "metadata": {},
   "outputs": [
    {
     "data": {
      "application/vnd.plotly.v1+json": {
       "config": {
        "plotlyServerURL": "https://plot.ly"
       },
       "data": [
        {
         "hovertemplate": "6=DH<br>0=%{x}<br>5=%{y}<extra></extra>",
         "legendgroup": "DH",
         "marker": {
          "color": "#636efa",
          "symbol": "circle"
         },
         "mode": "markers",
         "name": "DH",
         "orientation": "v",
         "showlegend": true,
         "type": "scatter",
         "x": [
          63.03,
          39.06,
          68.83,
          69.3,
          49.71,
          40.25,
          53.43,
          45.37,
          43.79,
          36.69,
          49.71,
          31.23,
          48.92,
          53.57,
          57.3,
          44.32,
          63.83,
          31.28,
          38.7,
          41.73,
          43.92,
          54.92,
          63.07,
          45.54,
          36.13,
          54.12,
          26.15,
          43.58,
          44.55,
          66.88,
          50.82,
          46.39,
          44.94,
          38.66,
          59.6,
          31.48,
          32.09,
          35.7,
          55.84,
          52.42,
          35.49,
          46.44,
          53.85,
          66.29,
          56.03,
          50.91,
          48.33,
          41.35,
          40.56,
          41.77,
          55.29,
          74.43,
          50.21,
          30.15,
          41.17,
          47.66,
          43.35,
          46.86,
          43.2,
          48.11
         ],
         "xaxis": "x",
         "y": [
          -0.25,
          4.56,
          -3.53,
          11.21,
          7.92,
          2.23,
          5.99,
          -10.68,
          13.29,
          0.66,
          -7.83,
          0.5,
          8.03,
          7.04,
          5.77,
          5.42,
          -0.62,
          3.62,
          1.43,
          -1.24,
          6.45,
          2.43,
          15.78,
          -4.99,
          -3.24,
          1.57,
          -10.09,
          8.99,
          2.65,
          -2.01,
          10.87,
          6.39,
          5.57,
          2.7,
          1.47,
          4.39,
          6.41,
          -0.26,
          2.81,
          1.69,
          -3.46,
          2.05,
          5.33,
          -0.8,
          -2.33,
          -2.53,
          6.48,
          -4.5,
          -1.54,
          2.06,
          3.56,
          5,
          5.74,
          11.46,
          -9.57,
          6.27,
          5.75,
          1.66,
          -2.92,
          7.95
         ],
         "yaxis": "y"
        },
        {
         "hovertemplate": "6=SL<br>0=%{x}<br>5=%{y}<extra></extra>",
         "legendgroup": "SL",
         "marker": {
          "color": "#EF553B",
          "symbol": "circle"
         },
         "mode": "markers",
         "name": "SL",
         "orientation": "v",
         "showlegend": true,
         "type": "scatter",
         "x": [
          74.38,
          89.68,
          44.53,
          77.69,
          76.15,
          83.93,
          78.49,
          75.65,
          72.08,
          58.6,
          72.56,
          86.9,
          84.97,
          55.51,
          72.22,
          70.22,
          86.75,
          58.78,
          67.41,
          47.74,
          77.11,
          74.01,
          88.62,
          81.1,
          76.33,
          45.44,
          59.79,
          44.91,
          56.61,
          71.19,
          81.66,
          70.95,
          85.35,
          58.1,
          94.17,
          57.52,
          96.66,
          74.72,
          77.66,
          58.52,
          84.59,
          79.94,
          70.4,
          49.78,
          77.41,
          65.01,
          65.01,
          78.43,
          63.17,
          68.61,
          63.9,
          85,
          42.02,
          69.76,
          80.99,
          129.83,
          70.48,
          86.04,
          65.54,
          60.75,
          54.74,
          83.88,
          80.07,
          65.67,
          74.72,
          48.06,
          70.68,
          80.43,
          90.51,
          77.24,
          50.07,
          69.78,
          69.63,
          81.75,
          52.2,
          77.12,
          88.02,
          83.4,
          72.05,
          85.1,
          69.56,
          89.5,
          85.29,
          60.63,
          60.04,
          85.64,
          85.58,
          55.08,
          65.76,
          79.25,
          81.11,
          48.03,
          63.4,
          57.29,
          41.19,
          66.8,
          79.48,
          44.22,
          57.04,
          64.27,
          92.03,
          67.26,
          118.14,
          115.92,
          53.94,
          83.7,
          56.99,
          72.34,
          95.38,
          44.25,
          64.81,
          78.4,
          56.67,
          50.83,
          61.41,
          56.56,
          67.03,
          80.82,
          80.65,
          68.72,
          37.9,
          64.62,
          75.44,
          71,
          81.06,
          91.47,
          81.08,
          60.42,
          85.68,
          82.41,
          43.72,
          86.47,
          74.47,
          70.25,
          72.64,
          71.24,
          63.77,
          58.83,
          74.85,
          75.3,
          63.36,
          67.51,
          76.31,
          73.64,
          56.54,
          80.11,
          95.48,
          74.09,
          87.68,
          48.26
         ],
         "xaxis": "x",
         "y": [
          56.13,
          92.03,
          29.11,
          26.93,
          10.43,
          26.59,
          27.38,
          69.55,
          1.01,
          28.06,
          32.11,
          101.72,
          74.33,
          34.55,
          56.8,
          145.38,
          110.86,
          51.58,
          33.16,
          21.68,
          70.76,
          74.56,
          51.81,
          65.21,
          50.13,
          20.32,
          22.12,
          37.36,
          24.02,
          27.28,
          30.61,
          32.52,
          76.02,
          50.24,
          53.26,
          148.75,
          64.08,
          33.31,
          61.21,
          30.39,
          25.12,
          38.54,
          25.54,
          25.34,
          93.56,
          7.02,
          49.7,
          77.16,
          42.61,
          39.5,
          41.42,
          71.32,
          27.34,
          51.17,
          85.87,
          418.54,
          56.9,
          61.99,
          16.38,
          31.69,
          40.38,
          80.56,
          67.73,
          53.93,
          37.02,
          32.84,
          27.81,
          57.78,
          58.82,
          39.79,
          26.77,
          17.91,
          54.82,
          55.51,
          54.94,
          82.09,
          56.77,
          49.67,
          56.43,
          38.03,
          29.7,
          118.35,
          58.88,
          104.86,
          30.41,
          42.89,
          68.38,
          31.77,
          39.31,
          36.71,
          40.51,
          35,
          31.78,
          30.34,
          27.66,
          41.69,
          61.7,
          42.81,
          52.17,
          39.41,
          58.06,
          42.14,
          74.04,
          81.2,
          25.08,
          69.28,
          36.81,
          12.07,
          57.66,
          23.91,
          21.41,
          12.39,
          21.11,
          23.04,
          21.84,
          50.7,
          33.99,
          44.17,
          52.47,
          54.69,
          33.61,
          31.33,
          54.97,
          67.77,
          38.18,
          52.62,
          49.16,
          30.27,
          61.96,
          62.77,
          40.88,
          55.75,
          124.98,
          32.67,
          25.38,
          38.26,
          56,
          117.31,
          33.17,
          31.58,
          37.56,
          88.3,
          101.22,
          26.98,
          25.77,
          100.29,
          77.28,
          73.39,
          76.73,
          28.34
         ],
         "yaxis": "y"
        },
        {
         "hovertemplate": "6=NO<br>0=%{x}<br>5=%{y}<extra></extra>",
         "legendgroup": "NO",
         "marker": {
          "color": "#00cc96",
          "symbol": "circle"
         },
         "mode": "markers",
         "name": "NO",
         "orientation": "v",
         "showlegend": true,
         "type": "scatter",
         "x": [
          38.51,
          54.92,
          44.36,
          48.32,
          45.7,
          30.74,
          50.91,
          38.13,
          51.62,
          64.31,
          44.49,
          54.95,
          56.1,
          69.4,
          89.83,
          59.73,
          63.96,
          61.54,
          38.05,
          43.44,
          65.61,
          53.91,
          43.12,
          40.68,
          37.73,
          63.93,
          61.82,
          62.14,
          69,
          56.45,
          41.65,
          51.53,
          39.09,
          34.65,
          63.03,
          47.81,
          46.64,
          49.83,
          47.32,
          50.75,
          36.16,
          40.75,
          42.92,
          63.79,
          72.96,
          67.54,
          54.75,
          50.16,
          40.35,
          63.62,
          54.14,
          74.98,
          42.52,
          33.79,
          54.5,
          48.17,
          46.37,
          52.86,
          57.15,
          37.14,
          51.31,
          42.52,
          39.36,
          35.88,
          43.19,
          67.29,
          51.33,
          65.76,
          40.41,
          48.8,
          50.09,
          64.26,
          53.68,
          49,
          59.17,
          67.8,
          61.73,
          33.04,
          74.57,
          44.43,
          36.42,
          51.08,
          34.76,
          48.9,
          46.24,
          46.43,
          39.66,
          45.58,
          66.51,
          82.91,
          50.68,
          89.01,
          54.6,
          34.38,
          45.08,
          47.9,
          53.94,
          61.45,
          45.25,
          33.84
         ],
         "xaxis": "x",
         "y": [
          7.99,
          2,
          4.99,
          -0.91,
          -3.39,
          -2.01,
          -1.06,
          6.34,
          1.01,
          3.12,
          -0.28,
          -0.63,
          31.17,
          -0.44,
          3.04,
          3.24,
          6.3,
          4.82,
          3.89,
          -3.11,
          -4.08,
          5.07,
          0.97,
          -2.51,
          13.68,
          -11.06,
          1.3,
          4.96,
          10.83,
          -1.86,
          -6.05,
          13.93,
          -0.76,
          -4.08,
          7.44,
          -0.4,
          9.06,
          1.91,
          1.63,
          2.29,
          -2.09,
          0.67,
          -3.36,
          12.38,
          0.81,
          25.97,
          8.24,
          -8.29,
          0.46,
          -0.36,
          0.15,
          1.59,
          0.76,
          -1.78,
          -4.41,
          5.36,
          -0.54,
          1.86,
          5.02,
          7.37,
          -2.14,
          7.88,
          1.9,
          -1.63,
          1.74,
          4.96,
          1.79,
          -1.98,
          -6.17,
          10.44,
          3.09,
          5.95,
          2.74,
          0.54,
          2.83,
          4.87,
          3.09,
          9.35,
          0.6,
          -3.6,
          0.18,
          6.91,
          -0.46,
          19.85,
          -5.1,
          2.45,
          -4.97,
          3.13,
          1.52,
          6.08,
          -0.21,
          6.06,
          -1.47,
          -3.37,
          -8.94,
          -4.25,
          -0.42,
          -2.71,
          0.21,
          -0.2
         ],
         "yaxis": "y"
        }
       ],
       "layout": {
        "legend": {
         "title": {
          "text": "6"
         },
         "tracegroupgap": 0
        },
        "margin": {
         "t": 60
        },
        "template": {
         "data": {
          "bar": [
           {
            "error_x": {
             "color": "#2a3f5f"
            },
            "error_y": {
             "color": "#2a3f5f"
            },
            "marker": {
             "line": {
              "color": "#E5ECF6",
              "width": 0.5
             },
             "pattern": {
              "fillmode": "overlay",
              "size": 10,
              "solidity": 0.2
             }
            },
            "type": "bar"
           }
          ],
          "barpolar": [
           {
            "marker": {
             "line": {
              "color": "#E5ECF6",
              "width": 0.5
             },
             "pattern": {
              "fillmode": "overlay",
              "size": 10,
              "solidity": 0.2
             }
            },
            "type": "barpolar"
           }
          ],
          "carpet": [
           {
            "aaxis": {
             "endlinecolor": "#2a3f5f",
             "gridcolor": "white",
             "linecolor": "white",
             "minorgridcolor": "white",
             "startlinecolor": "#2a3f5f"
            },
            "baxis": {
             "endlinecolor": "#2a3f5f",
             "gridcolor": "white",
             "linecolor": "white",
             "minorgridcolor": "white",
             "startlinecolor": "#2a3f5f"
            },
            "type": "carpet"
           }
          ],
          "choropleth": [
           {
            "colorbar": {
             "outlinewidth": 0,
             "ticks": ""
            },
            "type": "choropleth"
           }
          ],
          "contour": [
           {
            "colorbar": {
             "outlinewidth": 0,
             "ticks": ""
            },
            "colorscale": [
             [
              0,
              "#0d0887"
             ],
             [
              0.1111111111111111,
              "#46039f"
             ],
             [
              0.2222222222222222,
              "#7201a8"
             ],
             [
              0.3333333333333333,
              "#9c179e"
             ],
             [
              0.4444444444444444,
              "#bd3786"
             ],
             [
              0.5555555555555556,
              "#d8576b"
             ],
             [
              0.6666666666666666,
              "#ed7953"
             ],
             [
              0.7777777777777778,
              "#fb9f3a"
             ],
             [
              0.8888888888888888,
              "#fdca26"
             ],
             [
              1,
              "#f0f921"
             ]
            ],
            "type": "contour"
           }
          ],
          "contourcarpet": [
           {
            "colorbar": {
             "outlinewidth": 0,
             "ticks": ""
            },
            "type": "contourcarpet"
           }
          ],
          "heatmap": [
           {
            "colorbar": {
             "outlinewidth": 0,
             "ticks": ""
            },
            "colorscale": [
             [
              0,
              "#0d0887"
             ],
             [
              0.1111111111111111,
              "#46039f"
             ],
             [
              0.2222222222222222,
              "#7201a8"
             ],
             [
              0.3333333333333333,
              "#9c179e"
             ],
             [
              0.4444444444444444,
              "#bd3786"
             ],
             [
              0.5555555555555556,
              "#d8576b"
             ],
             [
              0.6666666666666666,
              "#ed7953"
             ],
             [
              0.7777777777777778,
              "#fb9f3a"
             ],
             [
              0.8888888888888888,
              "#fdca26"
             ],
             [
              1,
              "#f0f921"
             ]
            ],
            "type": "heatmap"
           }
          ],
          "heatmapgl": [
           {
            "colorbar": {
             "outlinewidth": 0,
             "ticks": ""
            },
            "colorscale": [
             [
              0,
              "#0d0887"
             ],
             [
              0.1111111111111111,
              "#46039f"
             ],
             [
              0.2222222222222222,
              "#7201a8"
             ],
             [
              0.3333333333333333,
              "#9c179e"
             ],
             [
              0.4444444444444444,
              "#bd3786"
             ],
             [
              0.5555555555555556,
              "#d8576b"
             ],
             [
              0.6666666666666666,
              "#ed7953"
             ],
             [
              0.7777777777777778,
              "#fb9f3a"
             ],
             [
              0.8888888888888888,
              "#fdca26"
             ],
             [
              1,
              "#f0f921"
             ]
            ],
            "type": "heatmapgl"
           }
          ],
          "histogram": [
           {
            "marker": {
             "pattern": {
              "fillmode": "overlay",
              "size": 10,
              "solidity": 0.2
             }
            },
            "type": "histogram"
           }
          ],
          "histogram2d": [
           {
            "colorbar": {
             "outlinewidth": 0,
             "ticks": ""
            },
            "colorscale": [
             [
              0,
              "#0d0887"
             ],
             [
              0.1111111111111111,
              "#46039f"
             ],
             [
              0.2222222222222222,
              "#7201a8"
             ],
             [
              0.3333333333333333,
              "#9c179e"
             ],
             [
              0.4444444444444444,
              "#bd3786"
             ],
             [
              0.5555555555555556,
              "#d8576b"
             ],
             [
              0.6666666666666666,
              "#ed7953"
             ],
             [
              0.7777777777777778,
              "#fb9f3a"
             ],
             [
              0.8888888888888888,
              "#fdca26"
             ],
             [
              1,
              "#f0f921"
             ]
            ],
            "type": "histogram2d"
           }
          ],
          "histogram2dcontour": [
           {
            "colorbar": {
             "outlinewidth": 0,
             "ticks": ""
            },
            "colorscale": [
             [
              0,
              "#0d0887"
             ],
             [
              0.1111111111111111,
              "#46039f"
             ],
             [
              0.2222222222222222,
              "#7201a8"
             ],
             [
              0.3333333333333333,
              "#9c179e"
             ],
             [
              0.4444444444444444,
              "#bd3786"
             ],
             [
              0.5555555555555556,
              "#d8576b"
             ],
             [
              0.6666666666666666,
              "#ed7953"
             ],
             [
              0.7777777777777778,
              "#fb9f3a"
             ],
             [
              0.8888888888888888,
              "#fdca26"
             ],
             [
              1,
              "#f0f921"
             ]
            ],
            "type": "histogram2dcontour"
           }
          ],
          "mesh3d": [
           {
            "colorbar": {
             "outlinewidth": 0,
             "ticks": ""
            },
            "type": "mesh3d"
           }
          ],
          "parcoords": [
           {
            "line": {
             "colorbar": {
              "outlinewidth": 0,
              "ticks": ""
             }
            },
            "type": "parcoords"
           }
          ],
          "pie": [
           {
            "automargin": true,
            "type": "pie"
           }
          ],
          "scatter": [
           {
            "fillpattern": {
             "fillmode": "overlay",
             "size": 10,
             "solidity": 0.2
            },
            "type": "scatter"
           }
          ],
          "scatter3d": [
           {
            "line": {
             "colorbar": {
              "outlinewidth": 0,
              "ticks": ""
             }
            },
            "marker": {
             "colorbar": {
              "outlinewidth": 0,
              "ticks": ""
             }
            },
            "type": "scatter3d"
           }
          ],
          "scattercarpet": [
           {
            "marker": {
             "colorbar": {
              "outlinewidth": 0,
              "ticks": ""
             }
            },
            "type": "scattercarpet"
           }
          ],
          "scattergeo": [
           {
            "marker": {
             "colorbar": {
              "outlinewidth": 0,
              "ticks": ""
             }
            },
            "type": "scattergeo"
           }
          ],
          "scattergl": [
           {
            "marker": {
             "colorbar": {
              "outlinewidth": 0,
              "ticks": ""
             }
            },
            "type": "scattergl"
           }
          ],
          "scattermapbox": [
           {
            "marker": {
             "colorbar": {
              "outlinewidth": 0,
              "ticks": ""
             }
            },
            "type": "scattermapbox"
           }
          ],
          "scatterpolar": [
           {
            "marker": {
             "colorbar": {
              "outlinewidth": 0,
              "ticks": ""
             }
            },
            "type": "scatterpolar"
           }
          ],
          "scatterpolargl": [
           {
            "marker": {
             "colorbar": {
              "outlinewidth": 0,
              "ticks": ""
             }
            },
            "type": "scatterpolargl"
           }
          ],
          "scatterternary": [
           {
            "marker": {
             "colorbar": {
              "outlinewidth": 0,
              "ticks": ""
             }
            },
            "type": "scatterternary"
           }
          ],
          "surface": [
           {
            "colorbar": {
             "outlinewidth": 0,
             "ticks": ""
            },
            "colorscale": [
             [
              0,
              "#0d0887"
             ],
             [
              0.1111111111111111,
              "#46039f"
             ],
             [
              0.2222222222222222,
              "#7201a8"
             ],
             [
              0.3333333333333333,
              "#9c179e"
             ],
             [
              0.4444444444444444,
              "#bd3786"
             ],
             [
              0.5555555555555556,
              "#d8576b"
             ],
             [
              0.6666666666666666,
              "#ed7953"
             ],
             [
              0.7777777777777778,
              "#fb9f3a"
             ],
             [
              0.8888888888888888,
              "#fdca26"
             ],
             [
              1,
              "#f0f921"
             ]
            ],
            "type": "surface"
           }
          ],
          "table": [
           {
            "cells": {
             "fill": {
              "color": "#EBF0F8"
             },
             "line": {
              "color": "white"
             }
            },
            "header": {
             "fill": {
              "color": "#C8D4E3"
             },
             "line": {
              "color": "white"
             }
            },
            "type": "table"
           }
          ]
         },
         "layout": {
          "annotationdefaults": {
           "arrowcolor": "#2a3f5f",
           "arrowhead": 0,
           "arrowwidth": 1
          },
          "autotypenumbers": "strict",
          "coloraxis": {
           "colorbar": {
            "outlinewidth": 0,
            "ticks": ""
           }
          },
          "colorscale": {
           "diverging": [
            [
             0,
             "#8e0152"
            ],
            [
             0.1,
             "#c51b7d"
            ],
            [
             0.2,
             "#de77ae"
            ],
            [
             0.3,
             "#f1b6da"
            ],
            [
             0.4,
             "#fde0ef"
            ],
            [
             0.5,
             "#f7f7f7"
            ],
            [
             0.6,
             "#e6f5d0"
            ],
            [
             0.7,
             "#b8e186"
            ],
            [
             0.8,
             "#7fbc41"
            ],
            [
             0.9,
             "#4d9221"
            ],
            [
             1,
             "#276419"
            ]
           ],
           "sequential": [
            [
             0,
             "#0d0887"
            ],
            [
             0.1111111111111111,
             "#46039f"
            ],
            [
             0.2222222222222222,
             "#7201a8"
            ],
            [
             0.3333333333333333,
             "#9c179e"
            ],
            [
             0.4444444444444444,
             "#bd3786"
            ],
            [
             0.5555555555555556,
             "#d8576b"
            ],
            [
             0.6666666666666666,
             "#ed7953"
            ],
            [
             0.7777777777777778,
             "#fb9f3a"
            ],
            [
             0.8888888888888888,
             "#fdca26"
            ],
            [
             1,
             "#f0f921"
            ]
           ],
           "sequentialminus": [
            [
             0,
             "#0d0887"
            ],
            [
             0.1111111111111111,
             "#46039f"
            ],
            [
             0.2222222222222222,
             "#7201a8"
            ],
            [
             0.3333333333333333,
             "#9c179e"
            ],
            [
             0.4444444444444444,
             "#bd3786"
            ],
            [
             0.5555555555555556,
             "#d8576b"
            ],
            [
             0.6666666666666666,
             "#ed7953"
            ],
            [
             0.7777777777777778,
             "#fb9f3a"
            ],
            [
             0.8888888888888888,
             "#fdca26"
            ],
            [
             1,
             "#f0f921"
            ]
           ]
          },
          "colorway": [
           "#636efa",
           "#EF553B",
           "#00cc96",
           "#ab63fa",
           "#FFA15A",
           "#19d3f3",
           "#FF6692",
           "#B6E880",
           "#FF97FF",
           "#FECB52"
          ],
          "font": {
           "color": "#2a3f5f"
          },
          "geo": {
           "bgcolor": "white",
           "lakecolor": "white",
           "landcolor": "#E5ECF6",
           "showlakes": true,
           "showland": true,
           "subunitcolor": "white"
          },
          "hoverlabel": {
           "align": "left"
          },
          "hovermode": "closest",
          "mapbox": {
           "style": "light"
          },
          "paper_bgcolor": "white",
          "plot_bgcolor": "#E5ECF6",
          "polar": {
           "angularaxis": {
            "gridcolor": "white",
            "linecolor": "white",
            "ticks": ""
           },
           "bgcolor": "#E5ECF6",
           "radialaxis": {
            "gridcolor": "white",
            "linecolor": "white",
            "ticks": ""
           }
          },
          "scene": {
           "xaxis": {
            "backgroundcolor": "#E5ECF6",
            "gridcolor": "white",
            "gridwidth": 2,
            "linecolor": "white",
            "showbackground": true,
            "ticks": "",
            "zerolinecolor": "white"
           },
           "yaxis": {
            "backgroundcolor": "#E5ECF6",
            "gridcolor": "white",
            "gridwidth": 2,
            "linecolor": "white",
            "showbackground": true,
            "ticks": "",
            "zerolinecolor": "white"
           },
           "zaxis": {
            "backgroundcolor": "#E5ECF6",
            "gridcolor": "white",
            "gridwidth": 2,
            "linecolor": "white",
            "showbackground": true,
            "ticks": "",
            "zerolinecolor": "white"
           }
          },
          "shapedefaults": {
           "line": {
            "color": "#2a3f5f"
           }
          },
          "ternary": {
           "aaxis": {
            "gridcolor": "white",
            "linecolor": "white",
            "ticks": ""
           },
           "baxis": {
            "gridcolor": "white",
            "linecolor": "white",
            "ticks": ""
           },
           "bgcolor": "#E5ECF6",
           "caxis": {
            "gridcolor": "white",
            "linecolor": "white",
            "ticks": ""
           }
          },
          "title": {
           "x": 0.05
          },
          "xaxis": {
           "automargin": true,
           "gridcolor": "white",
           "linecolor": "white",
           "ticks": "",
           "title": {
            "standoff": 15
           },
           "zerolinecolor": "white",
           "zerolinewidth": 2
          },
          "yaxis": {
           "automargin": true,
           "gridcolor": "white",
           "linecolor": "white",
           "ticks": "",
           "title": {
            "standoff": 15
           },
           "zerolinecolor": "white",
           "zerolinewidth": 2
          }
         }
        },
        "xaxis": {
         "anchor": "y",
         "domain": [
          0,
          1
         ],
         "title": {
          "text": "0"
         }
        },
        "yaxis": {
         "anchor": "x",
         "domain": [
          0,
          1
         ],
         "title": {
          "text": "5"
         }
        }
       }
      }
     },
     "metadata": {},
     "output_type": "display_data"
    }
   ],
   "source": [
    "fig = px.scatter(df, x=0, y=5, color=6)\n",
    "fig.show()\n"
   ]
  },
  {
   "cell_type": "code",
   "execution_count": null,
   "metadata": {},
   "outputs": [
    {
     "data": {
      "application/vnd.plotly.v1+json": {
       "config": {
        "plotlyServerURL": "https://plot.ly"
       },
       "data": [
        {
         "dimensions": [
          {
           "axis": {
            "matches": true
           },
           "label": "0",
           "values": [
            63.03,
            39.06,
            68.83,
            69.3,
            49.71,
            40.25,
            53.43,
            45.37,
            43.79,
            36.69,
            49.71,
            31.23,
            48.92,
            53.57,
            57.3,
            44.32,
            63.83,
            31.28,
            38.7,
            41.73,
            43.92,
            54.92,
            63.07,
            45.54,
            36.13,
            54.12,
            26.15,
            43.58,
            44.55,
            66.88,
            50.82,
            46.39,
            44.94,
            38.66,
            59.6,
            31.48,
            32.09,
            35.7,
            55.84,
            52.42,
            35.49,
            46.44,
            53.85,
            66.29,
            56.03,
            50.91,
            48.33,
            41.35,
            40.56,
            41.77,
            55.29,
            74.43,
            50.21,
            30.15,
            41.17,
            47.66,
            43.35,
            46.86,
            43.2,
            48.11
           ]
          },
          {
           "axis": {
            "matches": true
           },
           "label": "1",
           "values": [
            22.55,
            10.06,
            22.22,
            24.65,
            9.65,
            13.92,
            15.86,
            10.76,
            13.53,
            5.01,
            13.04,
            17.72,
            19.96,
            20.46,
            24.19,
            12.54,
            20.36,
            3.14,
            13.44,
            12.25,
            14.18,
            21.06,
            24.41,
            13.07,
            22.76,
            26.65,
            10.76,
            16.51,
            21.93,
            24.89,
            15.4,
            11.08,
            17.44,
            12.99,
            32,
            7.83,
            6.99,
            19.44,
            28.85,
            19.01,
            11.7,
            8.4,
            19.23,
            26.33,
            16.3,
            23.02,
            22.23,
            16.58,
            17.98,
            17.9,
            20.44,
            41.56,
            29.76,
            11.92,
            17.32,
            13.28,
            7.47,
            15.35,
            19.66,
            14.93
           ]
          },
          {
           "axis": {
            "matches": true
           },
           "label": "2",
           "values": [
            39.61,
            25.02,
            50.09,
            44.31,
            28.32,
            25.12,
            37.17,
            29.04,
            42.69,
            41.95,
            31.33,
            15.5,
            40.26,
            33.1,
            47,
            36.1,
            54.55,
            32.56,
            31,
            30.12,
            37.83,
            42.2,
            54,
            30.3,
            29,
            35.33,
            14,
            47,
            26.79,
            49.28,
            42.53,
            32.14,
            27.78,
            40,
            46.56,
            24.28,
            36,
            20.7,
            47.69,
            35.87,
            15.59,
            29.04,
            32.78,
            47.5,
            62.28,
            47,
            36.18,
            30.71,
            34,
            20.03,
            34,
            27.7,
            36.1,
            34,
            33.47,
            36.68,
            28.07,
            38,
            35,
            35.56
           ]
          },
          {
           "axis": {
            "matches": true
           },
           "label": "3",
           "values": [
            40.48,
            29,
            46.61,
            44.64,
            40.06,
            26.33,
            37.57,
            34.61,
            30.26,
            31.68,
            36.67,
            13.52,
            28.95,
            33.11,
            33.11,
            31.78,
            43.47,
            28.13,
            25.25,
            29.48,
            29.74,
            33.86,
            38.66,
            32.47,
            13.37,
            27.47,
            15.39,
            27.07,
            22.62,
            41.99,
            35.42,
            35.31,
            27.49,
            25.68,
            27.6,
            23.66,
            25.1,
            16.26,
            27,
            33.41,
            23.79,
            38.05,
            34.62,
            39.96,
            39.73,
            27.9,
            26.1,
            24.78,
            22.58,
            23.87,
            34.85,
            32.88,
            20.45,
            18.23,
            23.85,
            34.38,
            35.88,
            31.5,
            23.54,
            33.18
           ]
          },
          {
           "axis": {
            "matches": true
           },
           "label": "4",
           "values": [
            98.67,
            114.41,
            105.99,
            101.87,
            108.17,
            130.33,
            120.57,
            117.27,
            125,
            84.24,
            108.65,
            120.06,
            119.32,
            110.97,
            116.81,
            124.12,
            112.31,
            129.01,
            123.16,
            116.59,
            134.46,
            125.21,
            106.42,
            117.98,
            115.58,
            121.45,
            125.2,
            109.27,
            111.07,
            113.48,
            112.19,
            98.77,
            117.98,
            124.91,
            119.33,
            113.83,
            132.26,
            137.54,
            123.31,
            116.56,
            106.94,
            115.48,
            121.67,
            121.22,
            114.02,
            117.42,
            117.38,
            113.27,
            121.05,
            118.36,
            115.88,
            107.95,
            128.29,
            112.68,
            116.38,
            98.25,
            112.78,
            116.25,
            124.85,
            124.06
           ]
          },
          {
           "axis": {
            "matches": true
           },
           "label": "5",
           "values": [
            -0.25,
            4.56,
            -3.53,
            11.21,
            7.92,
            2.23,
            5.99,
            -10.68,
            13.29,
            0.66,
            -7.83,
            0.5,
            8.03,
            7.04,
            5.77,
            5.42,
            -0.62,
            3.62,
            1.43,
            -1.24,
            6.45,
            2.43,
            15.78,
            -4.99,
            -3.24,
            1.57,
            -10.09,
            8.99,
            2.65,
            -2.01,
            10.87,
            6.39,
            5.57,
            2.7,
            1.47,
            4.39,
            6.41,
            -0.26,
            2.81,
            1.69,
            -3.46,
            2.05,
            5.33,
            -0.8,
            -2.33,
            -2.53,
            6.48,
            -4.5,
            -1.54,
            2.06,
            3.56,
            5,
            5.74,
            11.46,
            -9.57,
            6.27,
            5.75,
            1.66,
            -2.92,
            7.95
           ]
          },
          {
           "axis": {
            "matches": true
           },
           "label": "6",
           "values": [
            "DH",
            "DH",
            "DH",
            "DH",
            "DH",
            "DH",
            "DH",
            "DH",
            "DH",
            "DH",
            "DH",
            "DH",
            "DH",
            "DH",
            "DH",
            "DH",
            "DH",
            "DH",
            "DH",
            "DH",
            "DH",
            "DH",
            "DH",
            "DH",
            "DH",
            "DH",
            "DH",
            "DH",
            "DH",
            "DH",
            "DH",
            "DH",
            "DH",
            "DH",
            "DH",
            "DH",
            "DH",
            "DH",
            "DH",
            "DH",
            "DH",
            "DH",
            "DH",
            "DH",
            "DH",
            "DH",
            "DH",
            "DH",
            "DH",
            "DH",
            "DH",
            "DH",
            "DH",
            "DH",
            "DH",
            "DH",
            "DH",
            "DH",
            "DH",
            "DH"
           ]
          },
          {
           "axis": {
            "matches": true
           },
           "label": "6",
           "values": [
            "DH",
            "DH",
            "DH",
            "DH",
            "DH",
            "DH",
            "DH",
            "DH",
            "DH",
            "DH",
            "DH",
            "DH",
            "DH",
            "DH",
            "DH",
            "DH",
            "DH",
            "DH",
            "DH",
            "DH",
            "DH",
            "DH",
            "DH",
            "DH",
            "DH",
            "DH",
            "DH",
            "DH",
            "DH",
            "DH",
            "DH",
            "DH",
            "DH",
            "DH",
            "DH",
            "DH",
            "DH",
            "DH",
            "DH",
            "DH",
            "DH",
            "DH",
            "DH",
            "DH",
            "DH",
            "DH",
            "DH",
            "DH",
            "DH",
            "DH",
            "DH",
            "DH",
            "DH",
            "DH",
            "DH",
            "DH",
            "DH",
            "DH",
            "DH",
            "DH"
           ]
          }
         ],
         "hovertemplate": "6=DH<br>%{xaxis.title.text}=%{x}<br>%{yaxis.title.text}=%{y}<extra></extra>",
         "legendgroup": "DH",
         "marker": {
          "color": "#636efa",
          "symbol": "circle"
         },
         "name": "DH",
         "showlegend": true,
         "type": "splom"
        },
        {
         "dimensions": [
          {
           "axis": {
            "matches": true
           },
           "label": "0",
           "values": [
            74.38,
            89.68,
            44.53,
            77.69,
            76.15,
            83.93,
            78.49,
            75.65,
            72.08,
            58.6,
            72.56,
            86.9,
            84.97,
            55.51,
            72.22,
            70.22,
            86.75,
            58.78,
            67.41,
            47.74,
            77.11,
            74.01,
            88.62,
            81.1,
            76.33,
            45.44,
            59.79,
            44.91,
            56.61,
            71.19,
            81.66,
            70.95,
            85.35,
            58.1,
            94.17,
            57.52,
            96.66,
            74.72,
            77.66,
            58.52,
            84.59,
            79.94,
            70.4,
            49.78,
            77.41,
            65.01,
            65.01,
            78.43,
            63.17,
            68.61,
            63.9,
            85,
            42.02,
            69.76,
            80.99,
            129.83,
            70.48,
            86.04,
            65.54,
            60.75,
            54.74,
            83.88,
            80.07,
            65.67,
            74.72,
            48.06,
            70.68,
            80.43,
            90.51,
            77.24,
            50.07,
            69.78,
            69.63,
            81.75,
            52.2,
            77.12,
            88.02,
            83.4,
            72.05,
            85.1,
            69.56,
            89.5,
            85.29,
            60.63,
            60.04,
            85.64,
            85.58,
            55.08,
            65.76,
            79.25,
            81.11,
            48.03,
            63.4,
            57.29,
            41.19,
            66.8,
            79.48,
            44.22,
            57.04,
            64.27,
            92.03,
            67.26,
            118.14,
            115.92,
            53.94,
            83.7,
            56.99,
            72.34,
            95.38,
            44.25,
            64.81,
            78.4,
            56.67,
            50.83,
            61.41,
            56.56,
            67.03,
            80.82,
            80.65,
            68.72,
            37.9,
            64.62,
            75.44,
            71,
            81.06,
            91.47,
            81.08,
            60.42,
            85.68,
            82.41,
            43.72,
            86.47,
            74.47,
            70.25,
            72.64,
            71.24,
            63.77,
            58.83,
            74.85,
            75.3,
            63.36,
            67.51,
            76.31,
            73.64,
            56.54,
            80.11,
            95.48,
            74.09,
            87.68,
            48.26
           ]
          },
          {
           "axis": {
            "matches": true
           },
           "label": "1",
           "values": [
            32.05,
            32.7,
            9.43,
            21.38,
            21.94,
            41.29,
            22.18,
            19.34,
            18.95,
            -0.26,
            17.39,
            32.93,
            33.02,
            20.1,
            23.08,
            39.82,
            36.04,
            7.67,
            17.44,
            12.09,
            30.47,
            21.12,
            29.09,
            24.79,
            42.4,
            9.91,
            17.88,
            10.22,
            16.8,
            23.9,
            28.75,
            20.16,
            15.84,
            14.84,
            15.38,
            33.65,
            19.46,
            19.76,
            22.43,
            13.92,
            30.36,
            18.77,
            13.47,
            6.47,
            29.4,
            27.6,
            9.84,
            33.43,
            6.33,
            15.08,
            13.71,
            29.61,
            -6.55,
            19.28,
            36.84,
            8.4,
            12.49,
            38.75,
            24.16,
            15.75,
            12.1,
            23.08,
            48.07,
            10.54,
            14.32,
            5.69,
            21.7,
            17,
            28.27,
            16.74,
            9.12,
            13.78,
            21.12,
            20.12,
            17.21,
            30.35,
            39.84,
            34.31,
            24.7,
            21.07,
            15.4,
            48.9,
            18.28,
            20.6,
            14.31,
            42.69,
            30.46,
            -3.76,
            9.83,
            23.94,
            20.69,
            3.97,
            14.12,
            15.15,
            5.79,
            14.55,
            26.73,
            1.51,
            0.35,
            12.51,
            35.39,
            7.19,
            38.45,
            37.52,
            9.31,
            20.27,
            6.87,
            16.42,
            24.82,
            1.1,
            15.17,
            14.04,
            13.46,
            9.06,
            25.38,
            8.96,
            13.28,
            19.24,
            26.34,
            49.43,
            4.48,
            15.23,
            31.54,
            37.52,
            20.8,
            24.51,
            21.26,
            5.27,
            38.65,
            29.28,
            9.81,
            40.3,
            33.28,
            10.34,
            18.93,
            5.27,
            12.76,
            37.58,
            13.91,
            16.67,
            20.02,
            33.28,
            41.93,
            9.71,
            14.38,
            33.94,
            46.55,
            18.82,
            20.37,
            16.42
           ]
          },
          {
           "axis": {
            "matches": true
           },
           "label": "2",
           "values": [
            78.77,
            83.13,
            52,
            64.43,
            82.96,
            62,
            60,
            64.15,
            51,
            51.5,
            52,
            47.79,
            60.86,
            44,
            91,
            68.12,
            69.22,
            53.34,
            60.14,
            39,
            69.48,
            57.38,
            47.56,
            77.89,
            57.2,
            45,
            59.21,
            44.63,
            42,
            43.7,
            58.23,
            62.86,
            71.67,
            79.65,
            67.71,
            50.91,
            90.21,
            82.74,
            93.89,
            41.47,
            65.48,
            63.31,
            61.2,
            53,
            63.23,
            50.95,
            57.74,
            76.28,
            63,
            63.01,
            62.12,
            83.35,
            67.9,
            48.5,
            86.96,
            48.38,
            62.42,
            47.87,
            45.78,
            43.2,
            41,
            87.14,
            52.4,
            56.49,
            32.5,
            57.06,
            59.18,
            66.54,
            69.81,
            49.78,
            32.17,
            58,
            52.77,
            70.56,
            78.09,
            77.48,
            81.77,
            78.42,
            79.87,
            91.73,
            74.44,
            72,
            100.74,
            64.54,
            58.04,
            78.75,
            78.23,
            56,
            50.82,
            40.8,
            60.69,
            58.34,
            48.14,
            64,
            42.87,
            72.08,
            70.65,
            46.11,
            49.2,
            68.7,
            77.42,
            51.7,
            50.84,
            76.8,
            43.1,
            77.11,
            57.01,
            59.87,
            95.16,
            38,
            58.84,
            79.69,
            43.77,
            56.3,
            39.1,
            52.58,
            66.15,
            61.64,
            60.9,
            68.06,
            24.71,
            67.63,
            89.6,
            84.54,
            91.78,
            84.62,
            78.77,
            59.81,
            82.68,
            77.05,
            52,
            61.14,
            66.94,
            76.37,
            68,
            86,
            65.36,
            125.74,
            62.69,
            61.3,
            67.5,
            96.28,
            93.28,
            63,
            44.99,
            85.1,
            59,
            76.03,
            93.82,
            36.33
           ]
          },
          {
           "axis": {
            "matches": true
           },
           "label": "3",
           "values": [
            42.32,
            56.98,
            35.1,
            56.31,
            54.21,
            42.65,
            56.31,
            56.31,
            53.13,
            58.86,
            55.18,
            53.97,
            51.95,
            35.42,
            49.14,
            30.4,
            50.71,
            51.12,
            49.97,
            35.66,
            46.64,
            52.88,
            59.53,
            56.31,
            33.93,
            35.54,
            41.91,
            34.7,
            39.81,
            47.29,
            52.91,
            50.79,
            69.51,
            43.26,
            78.79,
            23.88,
            77.2,
            54.96,
            55.22,
            44.6,
            54.22,
            61.16,
            56.93,
            43.32,
            48.01,
            37.41,
            55.18,
            45,
            56.84,
            53.53,
            50.19,
            55.39,
            48.58,
            50.48,
            44.14,
            121.43,
            57.99,
            47.29,
            41.38,
            45,
            42.65,
            60.8,
            32.01,
            55.12,
            60.4,
            42.37,
            48.97,
            63.43,
            62.24,
            60.5,
            40.95,
            56,
            48.5,
            61.63,
            34.99,
            46.77,
            48.18,
            49.09,
            47.35,
            64.03,
            54.16,
            40.6,
            67.01,
            40.03,
            45.73,
            42.95,
            55.12,
            58.84,
            55.92,
            55.3,
            60.42,
            44.06,
            49.29,
            42.14,
            35.39,
            52.25,
            52.74,
            42.71,
            56.69,
            51.77,
            56.63,
            60.07,
            79.7,
            78.41,
            44.64,
            63.43,
            50.12,
            55.92,
            70.56,
            43.15,
            49.64,
            64.36,
            43.21,
            41.76,
            36.03,
            47.6,
            53.75,
            61.58,
            54.31,
            19.29,
            33.42,
            49.4,
            43.9,
            33.49,
            60.26,
            66.96,
            59.83,
            55.15,
            47.03,
            53.13,
            33.91,
            46.17,
            41.19,
            59.91,
            53.71,
            65.97,
            51.01,
            21.25,
            60.95,
            58.63,
            43.34,
            34.24,
            34.38,
            63.92,
            42.16,
            46.17,
            48.93,
            55.27,
            67.31,
            31.84
           ]
          },
          {
           "axis": {
            "matches": true
           },
           "label": "4",
           "values": [
            143.56,
            129.96,
            134.71,
            114.82,
            123.93,
            115.01,
            118.53,
            95.9,
            114.21,
            102.04,
            119.19,
            135.08,
            125.66,
            122.65,
            137.74,
            148.53,
            139.41,
            98.5,
            111.12,
            117.51,
            112.15,
            120.21,
            121.76,
            151.84,
            124.27,
            163.07,
            119.32,
            130.08,
            127.29,
            119.86,
            114.77,
            116.18,
            124.42,
            113.59,
            114.89,
            140.98,
            120.67,
            109.36,
            123.06,
            115.51,
            108.01,
            114.79,
            102.34,
            110.86,
            118.45,
            116.58,
            94.74,
            138.55,
            110.64,
            123.43,
            114.13,
            126.91,
            111.59,
            96.49,
            141.09,
            107.69,
            114.19,
            122.09,
            136.44,
            113.05,
            117.64,
            124.65,
            110.71,
            109.16,
            107.18,
            95.44,
            103.01,
            116.44,
            100.89,
            110.69,
            99.71,
            118.93,
            116.8,
            119.43,
            136.97,
            110.61,
            116.6,
            110.47,
            107.17,
            109.06,
            105.07,
            134.63,
            110.66,
            117.23,
            105.13,
            105.14,
            114.87,
            109.92,
            104.39,
            98.62,
            94.02,
            125.35,
            111.92,
            116.74,
            103.35,
            82.46,
            118.59,
            108.63,
            103.05,
            95.25,
            115.72,
            97.8,
            81.02,
            104.7,
            124.4,
            125.48,
            109.98,
            70.08,
            89.31,
            98.27,
            111.68,
            104.73,
            93.69,
            79,
            103.4,
            98.78,
            100.72,
            89.47,
            120.1,
            125.02,
            157.85,
            90.3,
            106.83,
            125.16,
            125.43,
            117.31,
            90.07,
            109.03,
            120.84,
            117.04,
            88.43,
            97.4,
            146.47,
            119.24,
            116.96,
            110.7,
            89.82,
            135.63,
            115.21,
            118.88,
            131,
            145.6,
            132.27,
            98.73,
            101.72,
            125.59,
            96.68,
            128.41,
            120.94,
            94.88
           ]
          },
          {
           "axis": {
            "matches": true
           },
           "label": "5",
           "values": [
            56.13,
            92.03,
            29.11,
            26.93,
            10.43,
            26.59,
            27.38,
            69.55,
            1.01,
            28.06,
            32.11,
            101.72,
            74.33,
            34.55,
            56.8,
            145.38,
            110.86,
            51.58,
            33.16,
            21.68,
            70.76,
            74.56,
            51.81,
            65.21,
            50.13,
            20.32,
            22.12,
            37.36,
            24.02,
            27.28,
            30.61,
            32.52,
            76.02,
            50.24,
            53.26,
            148.75,
            64.08,
            33.31,
            61.21,
            30.39,
            25.12,
            38.54,
            25.54,
            25.34,
            93.56,
            7.02,
            49.7,
            77.16,
            42.61,
            39.5,
            41.42,
            71.32,
            27.34,
            51.17,
            85.87,
            418.54,
            56.9,
            61.99,
            16.38,
            31.69,
            40.38,
            80.56,
            67.73,
            53.93,
            37.02,
            32.84,
            27.81,
            57.78,
            58.82,
            39.79,
            26.77,
            17.91,
            54.82,
            55.51,
            54.94,
            82.09,
            56.77,
            49.67,
            56.43,
            38.03,
            29.7,
            118.35,
            58.88,
            104.86,
            30.41,
            42.89,
            68.38,
            31.77,
            39.31,
            36.71,
            40.51,
            35,
            31.78,
            30.34,
            27.66,
            41.69,
            61.7,
            42.81,
            52.17,
            39.41,
            58.06,
            42.14,
            74.04,
            81.2,
            25.08,
            69.28,
            36.81,
            12.07,
            57.66,
            23.91,
            21.41,
            12.39,
            21.11,
            23.04,
            21.84,
            50.7,
            33.99,
            44.17,
            52.47,
            54.69,
            33.61,
            31.33,
            54.97,
            67.77,
            38.18,
            52.62,
            49.16,
            30.27,
            61.96,
            62.77,
            40.88,
            55.75,
            124.98,
            32.67,
            25.38,
            38.26,
            56,
            117.31,
            33.17,
            31.58,
            37.56,
            88.3,
            101.22,
            26.98,
            25.77,
            100.29,
            77.28,
            73.39,
            76.73,
            28.34
           ]
          },
          {
           "axis": {
            "matches": true
           },
           "label": "6",
           "values": [
            "SL",
            "SL",
            "SL",
            "SL",
            "SL",
            "SL",
            "SL",
            "SL",
            "SL",
            "SL",
            "SL",
            "SL",
            "SL",
            "SL",
            "SL",
            "SL",
            "SL",
            "SL",
            "SL",
            "SL",
            "SL",
            "SL",
            "SL",
            "SL",
            "SL",
            "SL",
            "SL",
            "SL",
            "SL",
            "SL",
            "SL",
            "SL",
            "SL",
            "SL",
            "SL",
            "SL",
            "SL",
            "SL",
            "SL",
            "SL",
            "SL",
            "SL",
            "SL",
            "SL",
            "SL",
            "SL",
            "SL",
            "SL",
            "SL",
            "SL",
            "SL",
            "SL",
            "SL",
            "SL",
            "SL",
            "SL",
            "SL",
            "SL",
            "SL",
            "SL",
            "SL",
            "SL",
            "SL",
            "SL",
            "SL",
            "SL",
            "SL",
            "SL",
            "SL",
            "SL",
            "SL",
            "SL",
            "SL",
            "SL",
            "SL",
            "SL",
            "SL",
            "SL",
            "SL",
            "SL",
            "SL",
            "SL",
            "SL",
            "SL",
            "SL",
            "SL",
            "SL",
            "SL",
            "SL",
            "SL",
            "SL",
            "SL",
            "SL",
            "SL",
            "SL",
            "SL",
            "SL",
            "SL",
            "SL",
            "SL",
            "SL",
            "SL",
            "SL",
            "SL",
            "SL",
            "SL",
            "SL",
            "SL",
            "SL",
            "SL",
            "SL",
            "SL",
            "SL",
            "SL",
            "SL",
            "SL",
            "SL",
            "SL",
            "SL",
            "SL",
            "SL",
            "SL",
            "SL",
            "SL",
            "SL",
            "SL",
            "SL",
            "SL",
            "SL",
            "SL",
            "SL",
            "SL",
            "SL",
            "SL",
            "SL",
            "SL",
            "SL",
            "SL",
            "SL",
            "SL",
            "SL",
            "SL",
            "SL",
            "SL",
            "SL",
            "SL",
            "SL",
            "SL",
            "SL",
            "SL"
           ]
          },
          {
           "axis": {
            "matches": true
           },
           "label": "6",
           "values": [
            "SL",
            "SL",
            "SL",
            "SL",
            "SL",
            "SL",
            "SL",
            "SL",
            "SL",
            "SL",
            "SL",
            "SL",
            "SL",
            "SL",
            "SL",
            "SL",
            "SL",
            "SL",
            "SL",
            "SL",
            "SL",
            "SL",
            "SL",
            "SL",
            "SL",
            "SL",
            "SL",
            "SL",
            "SL",
            "SL",
            "SL",
            "SL",
            "SL",
            "SL",
            "SL",
            "SL",
            "SL",
            "SL",
            "SL",
            "SL",
            "SL",
            "SL",
            "SL",
            "SL",
            "SL",
            "SL",
            "SL",
            "SL",
            "SL",
            "SL",
            "SL",
            "SL",
            "SL",
            "SL",
            "SL",
            "SL",
            "SL",
            "SL",
            "SL",
            "SL",
            "SL",
            "SL",
            "SL",
            "SL",
            "SL",
            "SL",
            "SL",
            "SL",
            "SL",
            "SL",
            "SL",
            "SL",
            "SL",
            "SL",
            "SL",
            "SL",
            "SL",
            "SL",
            "SL",
            "SL",
            "SL",
            "SL",
            "SL",
            "SL",
            "SL",
            "SL",
            "SL",
            "SL",
            "SL",
            "SL",
            "SL",
            "SL",
            "SL",
            "SL",
            "SL",
            "SL",
            "SL",
            "SL",
            "SL",
            "SL",
            "SL",
            "SL",
            "SL",
            "SL",
            "SL",
            "SL",
            "SL",
            "SL",
            "SL",
            "SL",
            "SL",
            "SL",
            "SL",
            "SL",
            "SL",
            "SL",
            "SL",
            "SL",
            "SL",
            "SL",
            "SL",
            "SL",
            "SL",
            "SL",
            "SL",
            "SL",
            "SL",
            "SL",
            "SL",
            "SL",
            "SL",
            "SL",
            "SL",
            "SL",
            "SL",
            "SL",
            "SL",
            "SL",
            "SL",
            "SL",
            "SL",
            "SL",
            "SL",
            "SL",
            "SL",
            "SL",
            "SL",
            "SL",
            "SL",
            "SL"
           ]
          }
         ],
         "hovertemplate": "6=SL<br>%{xaxis.title.text}=%{x}<br>%{yaxis.title.text}=%{y}<extra></extra>",
         "legendgroup": "SL",
         "marker": {
          "color": "#EF553B",
          "symbol": "circle"
         },
         "name": "SL",
         "showlegend": true,
         "type": "splom"
        },
        {
         "dimensions": [
          {
           "axis": {
            "matches": true
           },
           "label": "0",
           "values": [
            38.51,
            54.92,
            44.36,
            48.32,
            45.7,
            30.74,
            50.91,
            38.13,
            51.62,
            64.31,
            44.49,
            54.95,
            56.1,
            69.4,
            89.83,
            59.73,
            63.96,
            61.54,
            38.05,
            43.44,
            65.61,
            53.91,
            43.12,
            40.68,
            37.73,
            63.93,
            61.82,
            62.14,
            69,
            56.45,
            41.65,
            51.53,
            39.09,
            34.65,
            63.03,
            47.81,
            46.64,
            49.83,
            47.32,
            50.75,
            36.16,
            40.75,
            42.92,
            63.79,
            72.96,
            67.54,
            54.75,
            50.16,
            40.35,
            63.62,
            54.14,
            74.98,
            42.52,
            33.79,
            54.5,
            48.17,
            46.37,
            52.86,
            57.15,
            37.14,
            51.31,
            42.52,
            39.36,
            35.88,
            43.19,
            67.29,
            51.33,
            65.76,
            40.41,
            48.8,
            50.09,
            64.26,
            53.68,
            49,
            59.17,
            67.8,
            61.73,
            33.04,
            74.57,
            44.43,
            36.42,
            51.08,
            34.76,
            48.9,
            46.24,
            46.43,
            39.66,
            45.58,
            66.51,
            82.91,
            50.68,
            89.01,
            54.6,
            34.38,
            45.08,
            47.9,
            53.94,
            61.45,
            45.25,
            33.84
           ]
          },
          {
           "axis": {
            "matches": true
           },
           "label": "1",
           "values": [
            16.96,
            18.97,
            8.95,
            17.45,
            10.66,
            13.35,
            6.68,
            6.56,
            15.97,
            26.33,
            21.79,
            5.87,
            13.11,
            18.9,
            22.64,
            7.72,
            16.06,
            19.68,
            8.3,
            10.1,
            23.14,
            12.94,
            13.82,
            9.15,
            9.39,
            19.97,
            13.6,
            13.96,
            13.29,
            19.44,
            8.84,
            13.52,
            5.54,
            7.51,
            27.34,
            10.69,
            15.85,
            16.74,
            8.57,
            20.24,
            -0.81,
            1.84,
            -5.85,
            21.35,
            19.58,
            14.66,
            9.75,
            -2.97,
            10.19,
            16.93,
            11.94,
            14.92,
            14.38,
            3.68,
            6.82,
            9.59,
            10.22,
            9.41,
            16.49,
            16.48,
            8.88,
            16.54,
            7.01,
            1.11,
            9.98,
            16.72,
            13.63,
            13.21,
            -1.33,
            18.02,
            13.43,
            14.5,
            13.45,
            13.11,
            14.56,
            16.55,
            17.11,
            -0.32,
            15.72,
            14.17,
            13.88,
            14.21,
            2.63,
            5.59,
            10.06,
            6.62,
            16.21,
            18.76,
            20.9,
            29.89,
            6.46,
            26.08,
            21.49,
            2.06,
            12.31,
            13.62,
            20.72,
            22.69,
            8.69,
            5.07
           ]
          },
          {
           "axis": {
            "matches": true
           },
           "label": "2",
           "values": [
            35.11,
            51.6,
            46.9,
            48,
            42.58,
            35.9,
            30.9,
            50.45,
            35,
            50.96,
            31.47,
            53,
            62.64,
            75.97,
            90.56,
            55.34,
            63.12,
            52.89,
            26.24,
            36.03,
            62.58,
            39,
            40.35,
            31.02,
            42,
            40.18,
            64,
            58,
            55.57,
            43.58,
            36.03,
            35,
            26.93,
            43,
            51.61,
            54,
            40,
            28,
            35.56,
            37,
            33.63,
            50,
            58,
            66,
            61.01,
            58,
            48,
            42,
            37.97,
            49.35,
            43,
            53.73,
            25.32,
            25.5,
            47,
            39.71,
            42.7,
            46.99,
            42.84,
            24,
            57,
            42,
            37,
            43.46,
            28.94,
            51,
            33.26,
            44,
            30.98,
            52,
            34.46,
            43.9,
            41.58,
            51.87,
            43.2,
            43.26,
            46.9,
            19.07,
            58.62,
            32.24,
            20.24,
            35.95,
            29.5,
            55.5,
            37,
            48.1,
            36.67,
            33.77,
            31.73,
            58.25,
            35,
            69.02,
            29.36,
            32.39,
            44.58,
            36,
            29.22,
            46.17,
            41.58,
            36.64
           ]
          },
          {
           "axis": {
            "matches": true
           },
           "label": "3",
           "values": [
            21.54,
            35.95,
            35.42,
            30.87,
            35.04,
            17.39,
            44.24,
            31.57,
            35.66,
            37.98,
            22.7,
            49.09,
            43,
            50.5,
            67.2,
            52,
            47.9,
            41.86,
            29.74,
            33.34,
            42.47,
            40.97,
            29.3,
            31.53,
            28.35,
            43.96,
            48.22,
            48.18,
            55.71,
            37,
            32.81,
            38.01,
            33.55,
            27.14,
            35.69,
            37.12,
            30.78,
            33.09,
            38.75,
            30.52,
            36.97,
            38.91,
            48.76,
            42.45,
            53.38,
            52.88,
            45,
            53.13,
            30.15,
            46.68,
            42.21,
            60.05,
            28.14,
            30.11,
            47.68,
            38.58,
            36.16,
            43.45,
            40.66,
            20.66,
            42.44,
            25.97,
            32.35,
            34.77,
            33.22,
            50.57,
            37.69,
            52.55,
            41.74,
            30.78,
            36.66,
            49.76,
            40.24,
            35.88,
            44.6,
            51.25,
            44.62,
            33.37,
            58.84,
            30.26,
            22.54,
            36.87,
            32.12,
            43.32,
            36.17,
            39.81,
            23.45,
            26.82,
            45.61,
            53.01,
            44.22,
            62.94,
            33.11,
            32.32,
            32.77,
            34.29,
            33.22,
            38.75,
            36.56,
            28.77
           ]
          },
          {
           "axis": {
            "matches": true
           },
           "label": "4",
           "values": [
            127.63,
            125.85,
            129.22,
            128.98,
            130.18,
            142.41,
            118.15,
            132.11,
            129.39,
            106.18,
            113.78,
            126.97,
            116.23,
            103.58,
            100.5,
            125.17,
            142.36,
            118.69,
            123.8,
            137.44,
            124.13,
            118.19,
            128.52,
            139.12,
            135.74,
            113.07,
            121.78,
            133.28,
            126.61,
            139.19,
            116.56,
            126.72,
            131.58,
            123.99,
            114.51,
            125.39,
            119.38,
            121.44,
            120.58,
            122.34,
            135.94,
            139.25,
            121.61,
            119.55,
            111.23,
            123.63,
            123.04,
            131.8,
            128.01,
            117.09,
            122.21,
            105.65,
            128.91,
            128.33,
            111.79,
            135.62,
            121.25,
            123.09,
            113.81,
            125.01,
            126.47,
            120.63,
            117.82,
            126.92,
            123.47,
            137.59,
            131.31,
            129.39,
            119.34,
            139.15,
            119.13,
            115.39,
            113.91,
            126.4,
            121.04,
            119.69,
            120.92,
            120.39,
            105.42,
            131.72,
            126.08,
            115.8,
            127.14,
            137.11,
            128.06,
            130.35,
            131.92,
            116.8,
            128.9,
            110.71,
            116.59,
            111.48,
            118.34,
            128.3,
            147.89,
            117.45,
            114.37,
            125.67,
            118.55,
            123.95
           ]
          },
          {
           "axis": {
            "matches": true
           },
           "label": "5",
           "values": [
            7.99,
            2,
            4.99,
            -0.91,
            -3.39,
            -2.01,
            -1.06,
            6.34,
            1.01,
            3.12,
            -0.28,
            -0.63,
            31.17,
            -0.44,
            3.04,
            3.24,
            6.3,
            4.82,
            3.89,
            -3.11,
            -4.08,
            5.07,
            0.97,
            -2.51,
            13.68,
            -11.06,
            1.3,
            4.96,
            10.83,
            -1.86,
            -6.05,
            13.93,
            -0.76,
            -4.08,
            7.44,
            -0.4,
            9.06,
            1.91,
            1.63,
            2.29,
            -2.09,
            0.67,
            -3.36,
            12.38,
            0.81,
            25.97,
            8.24,
            -8.29,
            0.46,
            -0.36,
            0.15,
            1.59,
            0.76,
            -1.78,
            -4.41,
            5.36,
            -0.54,
            1.86,
            5.02,
            7.37,
            -2.14,
            7.88,
            1.9,
            -1.63,
            1.74,
            4.96,
            1.79,
            -1.98,
            -6.17,
            10.44,
            3.09,
            5.95,
            2.74,
            0.54,
            2.83,
            4.87,
            3.09,
            9.35,
            0.6,
            -3.6,
            0.18,
            6.91,
            -0.46,
            19.85,
            -5.1,
            2.45,
            -4.97,
            3.13,
            1.52,
            6.08,
            -0.21,
            6.06,
            -1.47,
            -3.37,
            -8.94,
            -4.25,
            -0.42,
            -2.71,
            0.21,
            -0.2
           ]
          },
          {
           "axis": {
            "matches": true
           },
           "label": "6",
           "values": [
            "NO",
            "NO",
            "NO",
            "NO",
            "NO",
            "NO",
            "NO",
            "NO",
            "NO",
            "NO",
            "NO",
            "NO",
            "NO",
            "NO",
            "NO",
            "NO",
            "NO",
            "NO",
            "NO",
            "NO",
            "NO",
            "NO",
            "NO",
            "NO",
            "NO",
            "NO",
            "NO",
            "NO",
            "NO",
            "NO",
            "NO",
            "NO",
            "NO",
            "NO",
            "NO",
            "NO",
            "NO",
            "NO",
            "NO",
            "NO",
            "NO",
            "NO",
            "NO",
            "NO",
            "NO",
            "NO",
            "NO",
            "NO",
            "NO",
            "NO",
            "NO",
            "NO",
            "NO",
            "NO",
            "NO",
            "NO",
            "NO",
            "NO",
            "NO",
            "NO",
            "NO",
            "NO",
            "NO",
            "NO",
            "NO",
            "NO",
            "NO",
            "NO",
            "NO",
            "NO",
            "NO",
            "NO",
            "NO",
            "NO",
            "NO",
            "NO",
            "NO",
            "NO",
            "NO",
            "NO",
            "NO",
            "NO",
            "NO",
            "NO",
            "NO",
            "NO",
            "NO",
            "NO",
            "NO",
            "NO",
            "NO",
            "NO",
            "NO",
            "NO",
            "NO",
            "NO",
            "NO",
            "NO",
            "NO",
            "NO"
           ]
          },
          {
           "axis": {
            "matches": true
           },
           "label": "6",
           "values": [
            "NO",
            "NO",
            "NO",
            "NO",
            "NO",
            "NO",
            "NO",
            "NO",
            "NO",
            "NO",
            "NO",
            "NO",
            "NO",
            "NO",
            "NO",
            "NO",
            "NO",
            "NO",
            "NO",
            "NO",
            "NO",
            "NO",
            "NO",
            "NO",
            "NO",
            "NO",
            "NO",
            "NO",
            "NO",
            "NO",
            "NO",
            "NO",
            "NO",
            "NO",
            "NO",
            "NO",
            "NO",
            "NO",
            "NO",
            "NO",
            "NO",
            "NO",
            "NO",
            "NO",
            "NO",
            "NO",
            "NO",
            "NO",
            "NO",
            "NO",
            "NO",
            "NO",
            "NO",
            "NO",
            "NO",
            "NO",
            "NO",
            "NO",
            "NO",
            "NO",
            "NO",
            "NO",
            "NO",
            "NO",
            "NO",
            "NO",
            "NO",
            "NO",
            "NO",
            "NO",
            "NO",
            "NO",
            "NO",
            "NO",
            "NO",
            "NO",
            "NO",
            "NO",
            "NO",
            "NO",
            "NO",
            "NO",
            "NO",
            "NO",
            "NO",
            "NO",
            "NO",
            "NO",
            "NO",
            "NO",
            "NO",
            "NO",
            "NO",
            "NO",
            "NO",
            "NO",
            "NO",
            "NO",
            "NO",
            "NO"
           ]
          }
         ],
         "hovertemplate": "6=NO<br>%{xaxis.title.text}=%{x}<br>%{yaxis.title.text}=%{y}<extra></extra>",
         "legendgroup": "NO",
         "marker": {
          "color": "#00cc96",
          "symbol": "circle"
         },
         "name": "NO",
         "showlegend": true,
         "type": "splom"
        }
       ],
       "layout": {
        "dragmode": "select",
        "legend": {
         "title": {
          "text": "6"
         },
         "tracegroupgap": 0
        },
        "margin": {
         "t": 60
        },
        "template": {
         "data": {
          "bar": [
           {
            "error_x": {
             "color": "#2a3f5f"
            },
            "error_y": {
             "color": "#2a3f5f"
            },
            "marker": {
             "line": {
              "color": "#E5ECF6",
              "width": 0.5
             },
             "pattern": {
              "fillmode": "overlay",
              "size": 10,
              "solidity": 0.2
             }
            },
            "type": "bar"
           }
          ],
          "barpolar": [
           {
            "marker": {
             "line": {
              "color": "#E5ECF6",
              "width": 0.5
             },
             "pattern": {
              "fillmode": "overlay",
              "size": 10,
              "solidity": 0.2
             }
            },
            "type": "barpolar"
           }
          ],
          "carpet": [
           {
            "aaxis": {
             "endlinecolor": "#2a3f5f",
             "gridcolor": "white",
             "linecolor": "white",
             "minorgridcolor": "white",
             "startlinecolor": "#2a3f5f"
            },
            "baxis": {
             "endlinecolor": "#2a3f5f",
             "gridcolor": "white",
             "linecolor": "white",
             "minorgridcolor": "white",
             "startlinecolor": "#2a3f5f"
            },
            "type": "carpet"
           }
          ],
          "choropleth": [
           {
            "colorbar": {
             "outlinewidth": 0,
             "ticks": ""
            },
            "type": "choropleth"
           }
          ],
          "contour": [
           {
            "colorbar": {
             "outlinewidth": 0,
             "ticks": ""
            },
            "colorscale": [
             [
              0,
              "#0d0887"
             ],
             [
              0.1111111111111111,
              "#46039f"
             ],
             [
              0.2222222222222222,
              "#7201a8"
             ],
             [
              0.3333333333333333,
              "#9c179e"
             ],
             [
              0.4444444444444444,
              "#bd3786"
             ],
             [
              0.5555555555555556,
              "#d8576b"
             ],
             [
              0.6666666666666666,
              "#ed7953"
             ],
             [
              0.7777777777777778,
              "#fb9f3a"
             ],
             [
              0.8888888888888888,
              "#fdca26"
             ],
             [
              1,
              "#f0f921"
             ]
            ],
            "type": "contour"
           }
          ],
          "contourcarpet": [
           {
            "colorbar": {
             "outlinewidth": 0,
             "ticks": ""
            },
            "type": "contourcarpet"
           }
          ],
          "heatmap": [
           {
            "colorbar": {
             "outlinewidth": 0,
             "ticks": ""
            },
            "colorscale": [
             [
              0,
              "#0d0887"
             ],
             [
              0.1111111111111111,
              "#46039f"
             ],
             [
              0.2222222222222222,
              "#7201a8"
             ],
             [
              0.3333333333333333,
              "#9c179e"
             ],
             [
              0.4444444444444444,
              "#bd3786"
             ],
             [
              0.5555555555555556,
              "#d8576b"
             ],
             [
              0.6666666666666666,
              "#ed7953"
             ],
             [
              0.7777777777777778,
              "#fb9f3a"
             ],
             [
              0.8888888888888888,
              "#fdca26"
             ],
             [
              1,
              "#f0f921"
             ]
            ],
            "type": "heatmap"
           }
          ],
          "heatmapgl": [
           {
            "colorbar": {
             "outlinewidth": 0,
             "ticks": ""
            },
            "colorscale": [
             [
              0,
              "#0d0887"
             ],
             [
              0.1111111111111111,
              "#46039f"
             ],
             [
              0.2222222222222222,
              "#7201a8"
             ],
             [
              0.3333333333333333,
              "#9c179e"
             ],
             [
              0.4444444444444444,
              "#bd3786"
             ],
             [
              0.5555555555555556,
              "#d8576b"
             ],
             [
              0.6666666666666666,
              "#ed7953"
             ],
             [
              0.7777777777777778,
              "#fb9f3a"
             ],
             [
              0.8888888888888888,
              "#fdca26"
             ],
             [
              1,
              "#f0f921"
             ]
            ],
            "type": "heatmapgl"
           }
          ],
          "histogram": [
           {
            "marker": {
             "pattern": {
              "fillmode": "overlay",
              "size": 10,
              "solidity": 0.2
             }
            },
            "type": "histogram"
           }
          ],
          "histogram2d": [
           {
            "colorbar": {
             "outlinewidth": 0,
             "ticks": ""
            },
            "colorscale": [
             [
              0,
              "#0d0887"
             ],
             [
              0.1111111111111111,
              "#46039f"
             ],
             [
              0.2222222222222222,
              "#7201a8"
             ],
             [
              0.3333333333333333,
              "#9c179e"
             ],
             [
              0.4444444444444444,
              "#bd3786"
             ],
             [
              0.5555555555555556,
              "#d8576b"
             ],
             [
              0.6666666666666666,
              "#ed7953"
             ],
             [
              0.7777777777777778,
              "#fb9f3a"
             ],
             [
              0.8888888888888888,
              "#fdca26"
             ],
             [
              1,
              "#f0f921"
             ]
            ],
            "type": "histogram2d"
           }
          ],
          "histogram2dcontour": [
           {
            "colorbar": {
             "outlinewidth": 0,
             "ticks": ""
            },
            "colorscale": [
             [
              0,
              "#0d0887"
             ],
             [
              0.1111111111111111,
              "#46039f"
             ],
             [
              0.2222222222222222,
              "#7201a8"
             ],
             [
              0.3333333333333333,
              "#9c179e"
             ],
             [
              0.4444444444444444,
              "#bd3786"
             ],
             [
              0.5555555555555556,
              "#d8576b"
             ],
             [
              0.6666666666666666,
              "#ed7953"
             ],
             [
              0.7777777777777778,
              "#fb9f3a"
             ],
             [
              0.8888888888888888,
              "#fdca26"
             ],
             [
              1,
              "#f0f921"
             ]
            ],
            "type": "histogram2dcontour"
           }
          ],
          "mesh3d": [
           {
            "colorbar": {
             "outlinewidth": 0,
             "ticks": ""
            },
            "type": "mesh3d"
           }
          ],
          "parcoords": [
           {
            "line": {
             "colorbar": {
              "outlinewidth": 0,
              "ticks": ""
             }
            },
            "type": "parcoords"
           }
          ],
          "pie": [
           {
            "automargin": true,
            "type": "pie"
           }
          ],
          "scatter": [
           {
            "fillpattern": {
             "fillmode": "overlay",
             "size": 10,
             "solidity": 0.2
            },
            "type": "scatter"
           }
          ],
          "scatter3d": [
           {
            "line": {
             "colorbar": {
              "outlinewidth": 0,
              "ticks": ""
             }
            },
            "marker": {
             "colorbar": {
              "outlinewidth": 0,
              "ticks": ""
             }
            },
            "type": "scatter3d"
           }
          ],
          "scattercarpet": [
           {
            "marker": {
             "colorbar": {
              "outlinewidth": 0,
              "ticks": ""
             }
            },
            "type": "scattercarpet"
           }
          ],
          "scattergeo": [
           {
            "marker": {
             "colorbar": {
              "outlinewidth": 0,
              "ticks": ""
             }
            },
            "type": "scattergeo"
           }
          ],
          "scattergl": [
           {
            "marker": {
             "colorbar": {
              "outlinewidth": 0,
              "ticks": ""
             }
            },
            "type": "scattergl"
           }
          ],
          "scattermapbox": [
           {
            "marker": {
             "colorbar": {
              "outlinewidth": 0,
              "ticks": ""
             }
            },
            "type": "scattermapbox"
           }
          ],
          "scatterpolar": [
           {
            "marker": {
             "colorbar": {
              "outlinewidth": 0,
              "ticks": ""
             }
            },
            "type": "scatterpolar"
           }
          ],
          "scatterpolargl": [
           {
            "marker": {
             "colorbar": {
              "outlinewidth": 0,
              "ticks": ""
             }
            },
            "type": "scatterpolargl"
           }
          ],
          "scatterternary": [
           {
            "marker": {
             "colorbar": {
              "outlinewidth": 0,
              "ticks": ""
             }
            },
            "type": "scatterternary"
           }
          ],
          "surface": [
           {
            "colorbar": {
             "outlinewidth": 0,
             "ticks": ""
            },
            "colorscale": [
             [
              0,
              "#0d0887"
             ],
             [
              0.1111111111111111,
              "#46039f"
             ],
             [
              0.2222222222222222,
              "#7201a8"
             ],
             [
              0.3333333333333333,
              "#9c179e"
             ],
             [
              0.4444444444444444,
              "#bd3786"
             ],
             [
              0.5555555555555556,
              "#d8576b"
             ],
             [
              0.6666666666666666,
              "#ed7953"
             ],
             [
              0.7777777777777778,
              "#fb9f3a"
             ],
             [
              0.8888888888888888,
              "#fdca26"
             ],
             [
              1,
              "#f0f921"
             ]
            ],
            "type": "surface"
           }
          ],
          "table": [
           {
            "cells": {
             "fill": {
              "color": "#EBF0F8"
             },
             "line": {
              "color": "white"
             }
            },
            "header": {
             "fill": {
              "color": "#C8D4E3"
             },
             "line": {
              "color": "white"
             }
            },
            "type": "table"
           }
          ]
         },
         "layout": {
          "annotationdefaults": {
           "arrowcolor": "#2a3f5f",
           "arrowhead": 0,
           "arrowwidth": 1
          },
          "autotypenumbers": "strict",
          "coloraxis": {
           "colorbar": {
            "outlinewidth": 0,
            "ticks": ""
           }
          },
          "colorscale": {
           "diverging": [
            [
             0,
             "#8e0152"
            ],
            [
             0.1,
             "#c51b7d"
            ],
            [
             0.2,
             "#de77ae"
            ],
            [
             0.3,
             "#f1b6da"
            ],
            [
             0.4,
             "#fde0ef"
            ],
            [
             0.5,
             "#f7f7f7"
            ],
            [
             0.6,
             "#e6f5d0"
            ],
            [
             0.7,
             "#b8e186"
            ],
            [
             0.8,
             "#7fbc41"
            ],
            [
             0.9,
             "#4d9221"
            ],
            [
             1,
             "#276419"
            ]
           ],
           "sequential": [
            [
             0,
             "#0d0887"
            ],
            [
             0.1111111111111111,
             "#46039f"
            ],
            [
             0.2222222222222222,
             "#7201a8"
            ],
            [
             0.3333333333333333,
             "#9c179e"
            ],
            [
             0.4444444444444444,
             "#bd3786"
            ],
            [
             0.5555555555555556,
             "#d8576b"
            ],
            [
             0.6666666666666666,
             "#ed7953"
            ],
            [
             0.7777777777777778,
             "#fb9f3a"
            ],
            [
             0.8888888888888888,
             "#fdca26"
            ],
            [
             1,
             "#f0f921"
            ]
           ],
           "sequentialminus": [
            [
             0,
             "#0d0887"
            ],
            [
             0.1111111111111111,
             "#46039f"
            ],
            [
             0.2222222222222222,
             "#7201a8"
            ],
            [
             0.3333333333333333,
             "#9c179e"
            ],
            [
             0.4444444444444444,
             "#bd3786"
            ],
            [
             0.5555555555555556,
             "#d8576b"
            ],
            [
             0.6666666666666666,
             "#ed7953"
            ],
            [
             0.7777777777777778,
             "#fb9f3a"
            ],
            [
             0.8888888888888888,
             "#fdca26"
            ],
            [
             1,
             "#f0f921"
            ]
           ]
          },
          "colorway": [
           "#636efa",
           "#EF553B",
           "#00cc96",
           "#ab63fa",
           "#FFA15A",
           "#19d3f3",
           "#FF6692",
           "#B6E880",
           "#FF97FF",
           "#FECB52"
          ],
          "font": {
           "color": "#2a3f5f"
          },
          "geo": {
           "bgcolor": "white",
           "lakecolor": "white",
           "landcolor": "#E5ECF6",
           "showlakes": true,
           "showland": true,
           "subunitcolor": "white"
          },
          "hoverlabel": {
           "align": "left"
          },
          "hovermode": "closest",
          "mapbox": {
           "style": "light"
          },
          "paper_bgcolor": "white",
          "plot_bgcolor": "#E5ECF6",
          "polar": {
           "angularaxis": {
            "gridcolor": "white",
            "linecolor": "white",
            "ticks": ""
           },
           "bgcolor": "#E5ECF6",
           "radialaxis": {
            "gridcolor": "white",
            "linecolor": "white",
            "ticks": ""
           }
          },
          "scene": {
           "xaxis": {
            "backgroundcolor": "#E5ECF6",
            "gridcolor": "white",
            "gridwidth": 2,
            "linecolor": "white",
            "showbackground": true,
            "ticks": "",
            "zerolinecolor": "white"
           },
           "yaxis": {
            "backgroundcolor": "#E5ECF6",
            "gridcolor": "white",
            "gridwidth": 2,
            "linecolor": "white",
            "showbackground": true,
            "ticks": "",
            "zerolinecolor": "white"
           },
           "zaxis": {
            "backgroundcolor": "#E5ECF6",
            "gridcolor": "white",
            "gridwidth": 2,
            "linecolor": "white",
            "showbackground": true,
            "ticks": "",
            "zerolinecolor": "white"
           }
          },
          "shapedefaults": {
           "line": {
            "color": "#2a3f5f"
           }
          },
          "ternary": {
           "aaxis": {
            "gridcolor": "white",
            "linecolor": "white",
            "ticks": ""
           },
           "baxis": {
            "gridcolor": "white",
            "linecolor": "white",
            "ticks": ""
           },
           "bgcolor": "#E5ECF6",
           "caxis": {
            "gridcolor": "white",
            "linecolor": "white",
            "ticks": ""
           }
          },
          "title": {
           "x": 0.05
          },
          "xaxis": {
           "automargin": true,
           "gridcolor": "white",
           "linecolor": "white",
           "ticks": "",
           "title": {
            "standoff": 15
           },
           "zerolinecolor": "white",
           "zerolinewidth": 2
          },
          "yaxis": {
           "automargin": true,
           "gridcolor": "white",
           "linecolor": "white",
           "ticks": "",
           "title": {
            "standoff": 15
           },
           "zerolinecolor": "white",
           "zerolinewidth": 2
          }
         }
        }
       }
      }
     },
     "metadata": {},
     "output_type": "display_data"
    }
   ],
   "source": [
    "fig = px.scatter_matrix(df,color=6)\n",
    "fig.show()"
   ]
  },
  {
   "cell_type": "code",
   "execution_count": 97,
   "metadata": {},
   "outputs": [
    {
     "data": {
      "text/plain": [
       "\"\\ndf_train = X_train.merge(y_train,how='inner', left_index=True, right_index=True)\\ndf_train.to_csv(r'data/processed/vetebre_train.csv')\\n\\ndf_test = X_test.merge(y_test,how='inner', left_index=True, right_index=True)\\ndf_test.to_csv(r'data/processed/vetebre_test.csv')\\n\""
      ]
     },
     "execution_count": 97,
     "metadata": {},
     "output_type": "execute_result"
    }
   ],
   "source": [
    "# Split dataset into training set and test set\n",
    "X_train, X_test, y_train, y_test = train_test_split(X, y, test_size = 0.3, random_state=111, shuffle=True) # 70% training and 30% test\n",
    "\"\"\"\n",
    "df_train = X_train.merge(y_train,how='inner', left_index=True, right_index=True)\n",
    "df_train.to_csv(r'data/processed/vetebre_train.csv')\n",
    "\n",
    "df_test = X_test.merge(y_test,how='inner', left_index=True, right_index=True)\n",
    "df_test.to_csv(r'data/processed/vetebre_test.csv')\n",
    "\"\"\""
   ]
  },
  {
   "cell_type": "code",
   "execution_count": null,
   "metadata": {},
   "outputs": [],
   "source": [
    "#Create a Gaussian Classifier\n",
    "clf=RandomForestClassifier(n_estimators=100)\n",
    "\n",
    "#Train the model using the training sets y_pred=clf.predict(X_test)\n",
    "clf.fit(X_train,y_train)\n",
    "\n",
    "y_pred=clf.predict(X_test)"
   ]
  },
  {
   "cell_type": "code",
   "execution_count": null,
   "metadata": {},
   "outputs": [
    {
     "name": "stdout",
     "output_type": "stream",
     "text": [
      "Accuracy: 0.8602150537634409\n"
     ]
    }
   ],
   "source": [
    "# Model Accuracy, how often is the classifier correct?\n",
    "print(\"Accuracy:\",metrics.accuracy_score(y_test, y_pred))"
   ]
  },
  {
   "cell_type": "code",
   "execution_count": null,
   "metadata": {},
   "outputs": [],
   "source": [
    "def accuracymeasures(y_test,predictions,avg_method):\n",
    "    accuracy = accuracy_score(y_test, predictions)\n",
    "    precision = precision_score(y_test, predictions, average=avg_method)\n",
    "    recall = recall_score(y_test, predictions, average=avg_method)\n",
    "    f1score = f1_score(y_test, predictions, average=avg_method)\n",
    "    target_names = ['0','1','2']\n",
    "    print(\"Classification report\")\n",
    "    print(\"---------------------\",\"\\n\")\n",
    "    print(classification_report(y_test, predictions,target_names=target_names),\"\\n\")\n",
    "    print(\"Confusion Matrix\")\n",
    "    print(\"---------------------\",\"\\n\")\n",
    "    print(confusion_matrix(y_test, predictions),\"\\n\")\n",
    "\n",
    "    print(\"Accuracy Measures\")\n",
    "    print(\"---------------------\",\"\\n\")\n",
    "    print(\"Accuracy: \", accuracy)\n",
    "    print(\"Precision: \", precision)\n",
    "    print(\"Recall: \", recall)\n",
    "    print(\"F1 Score: \", f1score)\n",
    "    \n",
    "    return accuracy,precision,recall,f1score"
   ]
  },
  {
   "cell_type": "code",
   "execution_count": null,
   "metadata": {},
   "outputs": [
    {
     "name": "stderr",
     "output_type": "stream",
     "text": [
      "2022/05/31 14:51:34 INFO mlflow.tracking.fluent: Experiment with name 'vetebre' does not exist. Creating a new experiment.\n"
     ]
    },
    {
     "name": "stdout",
     "output_type": "stream",
     "text": [
      "Classification report\n",
      "--------------------- \n",
      "\n",
      "              precision    recall  f1-score   support\n",
      "\n",
      "           0       0.62      0.71      0.67        14\n",
      "           1       0.85      0.83      0.84        35\n",
      "           2       0.98      0.95      0.97        44\n",
      "\n",
      "    accuracy                           0.87        93\n",
      "   macro avg       0.82      0.83      0.82        93\n",
      "weighted avg       0.88      0.87      0.87        93\n",
      " \n",
      "\n",
      "Confusion Matrix\n",
      "--------------------- \n",
      "\n",
      "[[10  4  0]\n",
      " [ 5 29  1]\n",
      " [ 1  1 42]] \n",
      "\n",
      "Accuracy Measures\n",
      "--------------------- \n",
      "\n",
      "Accuracy:  0.8709677419354839\n",
      "Precision:  0.8772009178765279\n",
      "Recall:  0.8709677419354839\n",
      "F1 Score:  0.8735094818182307\n"
     ]
    },
    {
     "name": "stderr",
     "output_type": "stream",
     "text": [
      "Registered model 'knn_model' already exists. Creating a new version of this model...\n",
      "2022/05/31 14:51:36 INFO mlflow.tracking._model_registry.client: Waiting up to 300 seconds for model version to finish creation.                     Model name: knn_model, version 3\n",
      "Created version '3' of model 'knn_model'.\n"
     ]
    }
   ],
   "source": [
    "max_depth = 5\n",
    "n_estimators = 5\n",
    "\n",
    "n_neighbors = 5\n",
    "\n",
    "\n",
    "remote_server_uri = 'http://localhost:1234'\n",
    "\n",
    "mlflow.set_tracking_uri(remote_server_uri)\n",
    "mlflow.set_experiment('vetebre')\n",
    "\n",
    "with mlflow.start_run(run_name='knn') as mlops_run:\n",
    "    #model = RandomForestClassifier(max_depth=max_depth,n_estimators=n_estimators)\n",
    "    model = KNeighborsClassifier(n_neighbors=n_neighbors)\n",
    "    model.fit(X_train, y_train)\n",
    "    y_pred = model.predict(X_test)\n",
    "    accuracy,precision,recall,f1score = accuracymeasures(y_test,y_pred,'weighted')\n",
    "\n",
    "    #mlflow.log_param(\"max_depth\",max_depth)\n",
    "    #mlflow.log_param(\"n_estimators\", n_estimators)\n",
    "    mlflow.log_param(\"n_neighbors\", n_neighbors)\n",
    "\n",
    "    mlflow.log_metric(\"accuracy\", accuracy)\n",
    "    mlflow.log_metric(\"precision\", precision)\n",
    "    mlflow.log_metric(\"recall\", recall)\n",
    "    mlflow.log_metric(\"f1_score\", f1score)\n",
    "\n",
    "    tracking_url_type_store = urlparse(mlflow.get_artifact_uri()).scheme\n",
    "\n",
    "    if tracking_url_type_store != \"file\":\n",
    "        mlflow.sklearn.log_model(\n",
    "            model, \n",
    "            \"model\", \n",
    "            registered_model_name='knn_model')\n",
    "    else:\n",
    "        mlflow.sklearn.load_model(model, \"model\")"
   ]
  }
 ],
 "metadata": {
  "interpreter": {
   "hash": "31f2aee4e71d21fbe5cf8b01ff0e069b9275f58929596ceb00d14d90e3e16cd6"
  },
  "kernelspec": {
   "display_name": "Python 3.8.10 64-bit",
   "language": "python",
   "name": "python3"
  },
  "language_info": {
   "codemirror_mode": {
    "name": "ipython",
    "version": 3
   },
   "file_extension": ".py",
   "mimetype": "text/x-python",
   "name": "python",
   "nbconvert_exporter": "python",
   "pygments_lexer": "ipython3",
   "version": "3.8.10"
  },
  "orig_nbformat": 4
 },
 "nbformat": 4,
 "nbformat_minor": 2
}
